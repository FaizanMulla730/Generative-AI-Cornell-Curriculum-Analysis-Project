{
 "cells": [
  {
   "cell_type": "code",
   "execution_count": null,
   "id": "ac2aedb9-4bf9-42ed-84b2-4bdc940bc527",
   "metadata": {},
   "outputs": [],
   "source": [
    "import nltk\n",
    "from nltk.corpus import stopwords\n",
    "from pyspark.sql import SparkSession\n",
    "from pyspark.sql.functions import col, lower, regexp_replace\n",
    "\n",
    "# Download stopwords\n",
    "nltk.download(\"stopwords\")\n",
    "stop_words = set(stopwords.words(\"english\"))\n",
    "\n",
    "# Initialize Spark\n",
    "spark = SparkSession.builder.appName(\"DataProcessing\").getOrCreate()\n",
    "\n",
    "# Load a large dataset\n",
    "data = [(\"Cornell is a research university\",), (\"AI models need clean data\",)]\n",
    "df = spark.createDataFrame(data, [\"text\"])\n",
    "\n",
    "# Text cleaning: remove punctuation, convert to lowercase\n",
    "df_cleaned = df.withColumn(\"clean_text\", lower(regexp_replace(col(\"text\"), \"[^a-zA-Z ]\", \"\")))\n",
    "\n",
    "# Show cleaned dataset\n",
    "df_cleaned.show()"
   ]
  },
  {
   "cell_type": "code",
   "execution_count": null,
   "id": "74f7e11a-6dfa-4416-b2af-494d86ec39af",
   "metadata": {},
   "outputs": [],
   "source": []
  }
 ],
 "metadata": {
  "kernelspec": {
   "display_name": "Python 3 (ipykernel)",
   "language": "python",
   "name": "python3"
  },
  "language_info": {
   "codemirror_mode": {
    "name": "ipython",
    "version": 3
   },
   "file_extension": ".py",
   "mimetype": "text/x-python",
   "name": "python",
   "nbconvert_exporter": "python",
   "pygments_lexer": "ipython3",
   "version": "3.11.7"
  }
 },
 "nbformat": 4,
 "nbformat_minor": 5
}
