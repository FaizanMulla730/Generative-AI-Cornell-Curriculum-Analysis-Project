{
 "cells": [
  {
   "cell_type": "code",
   "execution_count": null,
   "id": "db73c15e-ffdf-48f6-94c0-bf20748695fe",
   "metadata": {},
   "outputs": [],
   "source": [
    "from transformers import AutoModelForCausalLM, AutoTokenizer\n",
    "import onnxruntime as ort\n",
    "\n",
    "# Load pre-trained model\n",
    "model_name = \"meta-llama/Llama-2-7b\"\n",
    "model = AutoModelForCausalLM.from_pretrained(model_name)\n",
    "tokenizer = AutoTokenizer.from_pretrained(model_name)\n",
    "\n",
    "# Convert to ONNX for inference speed-up\n",
    "model.save_pretrained(\"llama.onnx\")\n",
    "\n",
    "# Load ONNX model for optimized inference\n",
    "session = ort.InferenceSession(\"llama.onnx\")\n",
    "\n",
    "# Example inference\n",
    "text = \"What is AI?\"\n",
    "tokens = tokenizer.encode(text, return_tensors=\"pt\")\n",
    "output = session.run(None, {\"input_ids\": tokens.numpy()})\n",
    "\n",
    "print(output)"
   ]
  },
  {
   "cell_type": "code",
   "execution_count": null,
   "id": "0da244b8-74a1-48d4-b131-3cada9850e91",
   "metadata": {},
   "outputs": [],
   "source": []
  }
 ],
 "metadata": {
  "kernelspec": {
   "display_name": "Python 3 (ipykernel)",
   "language": "python",
   "name": "python3"
  },
  "language_info": {
   "codemirror_mode": {
    "name": "ipython",
    "version": 3
   },
   "file_extension": ".py",
   "mimetype": "text/x-python",
   "name": "python",
   "nbconvert_exporter": "python",
   "pygments_lexer": "ipython3",
   "version": "3.11.7"
  }
 },
 "nbformat": 4,
 "nbformat_minor": 5
}
