{
 "cells": [
  {
   "cell_type": "code",
   "execution_count": null,
   "id": "9641041b-e601-44b5-92e1-a2aea49c8a81",
   "metadata": {},
   "outputs": [],
   "source": [
    "import faiss\n",
    "import numpy as np\n",
    "from sentence_transformers import SentenceTransformer\n",
    "\n",
    "# Load an embedding model\n",
    "embed_model = SentenceTransformer(\"all-MiniLM-L6-v2\")\n",
    "\n",
    "# Sample knowledge base (vector database)\n",
    "documents = [\"Cornell University was founded in 1865.\", \"LLMs require large datasets for training.\"]\n",
    "doc_embeddings = embed_model.encode(documents)\n",
    "\n",
    "# Build FAISS index for fast retrieval\n",
    "index = faiss.IndexFlatL2(doc_embeddings.shape[1])\n",
    "index.add(np.array(doc_embeddings))\n",
    "\n",
    "# Query input\n",
    "query = \"When was Cornell University founded?\"\n",
    "query_embedding = embed_model.encode([query])\n",
    "\n",
    "# Retrieve most relevant document\n",
    "_, closest_doc_index = index.search(np.array(query_embedding), 1)\n",
    "best_match = documents[closest_doc_index[0][0]]\n",
    "\n",
    "print(f\"Retrieved Fact: {best_match}\")"
   ]
  },
  {
   "cell_type": "code",
   "execution_count": null,
   "id": "f6002c21-fb62-4ef7-80bb-f694c8f675ec",
   "metadata": {},
   "outputs": [],
   "source": []
  }
 ],
 "metadata": {
  "kernelspec": {
   "display_name": "Python 3 (ipykernel)",
   "language": "python",
   "name": "python3"
  },
  "language_info": {
   "codemirror_mode": {
    "name": "ipython",
    "version": 3
   },
   "file_extension": ".py",
   "mimetype": "text/x-python",
   "name": "python",
   "nbconvert_exporter": "python",
   "pygments_lexer": "ipython3",
   "version": "3.11.7"
  }
 },
 "nbformat": 4,
 "nbformat_minor": 5
}
